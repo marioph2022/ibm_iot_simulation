{
 "cells": [
  {
   "cell_type": "code",
   "execution_count": 8,
   "metadata": {},
   "outputs": [
    {
     "name": "stdout",
     "output_type": "stream",
     "text": [
      "Libraries have been imported\n"
     ]
    }
   ],
   "source": [
    "import pandas as pd\n",
    "import matplotlib.pyplot as plt\n",
    "import json\n",
    "import paho.mqtt.client as mqtt\n",
    "print('Libraries have been imported')"
   ]
  },
  {
   "cell_type": "code",
   "execution_count": 9,
   "metadata": {},
   "outputs": [
    {
     "data": {
      "text/html": [
       "<div>\n",
       "<style scoped>\n",
       "    .dataframe tbody tr th:only-of-type {\n",
       "        vertical-align: middle;\n",
       "    }\n",
       "\n",
       "    .dataframe tbody tr th {\n",
       "        vertical-align: top;\n",
       "    }\n",
       "\n",
       "    .dataframe thead th {\n",
       "        text-align: right;\n",
       "    }\n",
       "</style>\n",
       "<table border=\"1\" class=\"dataframe\">\n",
       "  <thead>\n",
       "    <tr style=\"text-align: right;\">\n",
       "      <th></th>\n",
       "      <th>PType_WZ</th>\n",
       "      <th>Date</th>\n",
       "      <th>int_1</th>\n",
       "      <th>int_2</th>\n",
       "      <th>int_3</th>\n",
       "      <th>int_4</th>\n",
       "      <th>int_5</th>\n",
       "      <th>int_6</th>\n",
       "      <th>int_7</th>\n",
       "      <th>int_8</th>\n",
       "      <th>...</th>\n",
       "      <th>int_87</th>\n",
       "      <th>int_88</th>\n",
       "      <th>int_89</th>\n",
       "      <th>int_90</th>\n",
       "      <th>int_91</th>\n",
       "      <th>int_92</th>\n",
       "      <th>int_93</th>\n",
       "      <th>int_94</th>\n",
       "      <th>int_95</th>\n",
       "      <th>int_96</th>\n",
       "    </tr>\n",
       "  </thead>\n",
       "  <tbody>\n",
       "    <tr>\n",
       "      <th>0</th>\n",
       "      <td>BUSHIDG_COAST</td>\n",
       "      <td>1/1/2021</td>\n",
       "      <td>11.419</td>\n",
       "      <td>11.339</td>\n",
       "      <td>11.285</td>\n",
       "      <td>11.235</td>\n",
       "      <td>11.205</td>\n",
       "      <td>11.192</td>\n",
       "      <td>11.153</td>\n",
       "      <td>11.147</td>\n",
       "      <td>...</td>\n",
       "      <td>12.342</td>\n",
       "      <td>12.296</td>\n",
       "      <td>12.205</td>\n",
       "      <td>12.136</td>\n",
       "      <td>12.036</td>\n",
       "      <td>11.915</td>\n",
       "      <td>11.719</td>\n",
       "      <td>11.627</td>\n",
       "      <td>11.536</td>\n",
       "      <td>11.396</td>\n",
       "    </tr>\n",
       "  </tbody>\n",
       "</table>\n",
       "<p>1 rows × 98 columns</p>\n",
       "</div>"
      ],
      "text/plain": [
       "        PType_WZ      Date   int_1   int_2   int_3   int_4   int_5   int_6  \\\n",
       "0  BUSHIDG_COAST  1/1/2021  11.419  11.339  11.285  11.235  11.205  11.192   \n",
       "\n",
       "    int_7   int_8  ...  int_87  int_88  int_89  int_90  int_91  int_92  \\\n",
       "0  11.153  11.147  ...  12.342  12.296  12.205  12.136  12.036  11.915   \n",
       "\n",
       "   int_93  int_94  int_95  int_96  \n",
       "0  11.719  11.627  11.536  11.396  \n",
       "\n",
       "[1 rows x 98 columns]"
      ]
     },
     "execution_count": 9,
     "metadata": {},
     "output_type": "execute_result"
    }
   ],
   "source": [
    "#------------------------------------------------------------------------------------\n",
    "#Read the data that will be used to simulate data created and transmitted by a device\n",
    "#------------------------------------------------------------------------------------\n",
    "device_df = pd.read_csv('device_data.csv')\n",
    "device_df.head()"
   ]
  },
  {
   "cell_type": "code",
   "execution_count": 10,
   "metadata": {},
   "outputs": [
    {
     "data": {
      "image/png": "[encoded data removed]",
      "text/plain": [
       "<Figure size 360x360 with 1 Axes>"
      ]
     },
     "metadata": {
      "needs_background": "light"
     },
     "output_type": "display_data"
    }
   ],
   "source": [
    "#---------------------------------------\n",
    "# Plot the data that will be transmitted\n",
    "#---------------------------------------\n",
    "fig, ax = plt.subplots(figsize=(5, 5))\n",
    "\n",
    "lst = device_df.drop(['PType_WZ', 'Date'], axis=1).values[0]\n",
    "x_axis = [x for x in range(len(lst))]\n",
    "y_axis = lst\n",
    "_ = ax.plot(x_axis, y_axis, color='black')"
   ]
  },
  {
   "cell_type": "code",
   "execution_count": 11,
   "metadata": {},
   "outputs": [],
   "source": [
    "#------------------------------------------------------------------------\n",
    "# Define connection data that must be in the following format\n",
    "# host = six letter org id + '.messaging.internetofthings.ibmcloud.com'\n",
    "# clientId = 'd:' + six letter org id + ':' + devicetype + ':' + deviceId\n",
    "# user = 'use-token-auth'\n",
    "# pw = custom or generated pw created during device id registration\n",
    "#------------------------------------------------------------------------\n",
    "host = 'xxxxxx.messaging.internetofthings.ibmcloud.com'\n",
    "clientId = 'd:xxxxxx:mydevicetypemp:testdevice01'\n",
    "user = 'use-token-auth'\n",
    "pw = 'xxxxxxxxxxxxxxxxxx'"
   ]
  },
  {
   "cell_type": "code",
   "execution_count": 12,
   "metadata": {},
   "outputs": [
    {
     "data": {
      "text/plain": [
       "0"
      ]
     },
     "execution_count": 12,
     "metadata": {},
     "output_type": "execute_result"
    }
   ],
   "source": [
    "#-------------------------------------------------------\n",
    "# Connect to the device id so messages can be sent to it\n",
    "#-------------------------------------------------------\n",
    "client = mqtt.Client(clientId)\n",
    "client.username_pw_set(user, pw)\n",
    "client.connect(host, 1883, 60)"
   ]
  },
  {
   "cell_type": "code",
   "execution_count": 13,
   "metadata": {},
   "outputs": [],
   "source": [
    "# ----------------------------------------------------------------------------------\n",
    "# Define a topic so messages can be posted on it for a client associated to a device\n",
    "# 'iot-2 + '/evt/' + topicname + '/fmt/json'\n",
    "# ----------------------------------------------------------------------------------\n",
    "topic = 'iot-2/evt/testtopic/fmt/json'\n",
    "for val in y_axis:\n",
    "    client.publish(topic, json.dumps(val))"
   ]
  },
  {
   "cell_type": "code",
   "execution_count": 14,
   "metadata": {},
   "outputs": [
    {
     "data": {
      "text/plain": [
       "0"
      ]
     },
     "execution_count": 14,
     "metadata": {},
     "output_type": "execute_result"
    }
   ],
   "source": [
    "# --------------------------\n",
    "# Disconnect from the device\n",
    "# --------------------------\n",
    "client.loop()\n",
    "client.disconnect()"
   ]
  }
 ],
 "metadata": {
  "interpreter": {
   "hash": "c394e43c4c07695b1448913565c8285713ffff47ef383798434eb1996a1a819c"
  },
  "kernelspec": {
   "display_name": "PyCharm (xtest)",
   "language": "python",
   "name": "pycharm-c6b8a696"
  },
  "language_info": {
   "codemirror_mode": {
    "name": "ipython",
    "version": 3
   },
   "file_extension": ".py",
   "mimetype": "text/x-python",
   "name": "python",
   "nbconvert_exporter": "python",
   "pygments_lexer": "ipython3",
   "version": "3.9.7"
  },
  "orig_nbformat": 4
 },
 "nbformat": 4,
 "nbformat_minor": 2
}
